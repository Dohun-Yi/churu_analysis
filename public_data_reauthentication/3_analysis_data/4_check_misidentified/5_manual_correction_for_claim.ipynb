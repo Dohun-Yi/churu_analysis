{
 "cells": [
  {
   "cell_type": "markdown",
   "id": "e42a7e6e-370a-4a60-b0dd-48e6b07126af",
   "metadata": {},
   "source": [
    "# Manual correction for claim"
   ]
  },
  {
   "cell_type": "markdown",
   "id": "f268764d-7768-468e-8810-ca52eb3e6e74",
   "metadata": {},
   "source": [
    "### Import data"
   ]
  },
  {
   "cell_type": "code",
   "execution_count": 1,
   "id": "75464c59-bc10-4501-b073-716e3e85a838",
   "metadata": {},
   "outputs": [],
   "source": [
    "import sys, os\n",
    "import json\n",
    "from tqdm import tqdm\n",
    "\n",
    "path_root = '../../'\n",
    "path_workd = path_root + '/analysis/4_check_misidentified'\n",
    "\n",
    "# dir_churu = path_workd + '/1697001520/output/'\n",
    "path_match = path_workd + '/1697001520.compare_result.before_verification.txt'\n",
    "path_meta = path_workd + '/1697001520.parse.filt.table'\n",
    "path_guess = path_workd + '/cellname_guesse_full.txt'\n",
    "path_cello = path_workd + '/cellosaurus.txt'\n",
    "path_cello_parsed = path_workd + '/cellosaurus.table.reform.acc.cvcl'\n",
    "# path_institute = path_workd + '/institute_selected.parsed.corrected.txt'"
   ]
  },
  {
   "cell_type": "code",
   "execution_count": 2,
   "id": "5e9a551a-72fe-4d54-85b3-0ca77e316ef8",
   "metadata": {},
   "outputs": [],
   "source": [
    "# Import cellosaurus data\n",
    "def get_lineage(child, child2parent):\n",
    "    # this dict contain information about \"originate from same individual\"\n",
    "    parents = child2parent.get(child,'').split('; ')\n",
    "    if [child] == parents:\n",
    "        return parents\n",
    "    else:\n",
    "        lst = [pp for p in parents for pp in get_lineage(p, child2parent)]\n",
    "        return parents + lst\n",
    "\n",
    "format_lineage = lambda x: list(set([x] + get_lineage(x, child2parent)) - set(['']))\n",
    "\n",
    "with open(path_cello_parsed) as f:\n",
    "    lines = f.readlines()\n",
    "    items = map(lambda x: x.rstrip('\\n').split('\\t'), lines)\n",
    "    child2parent = {x[0]:x[2] for x in items}\n",
    "    # child: [parent1, parent2, ... ]\n",
    "    child2lineage = {x:list(set(get_lineage(x, child2parent)) - set(['','-'])) for x in child2parent}\n",
    "    # child: [lineage1, lineage2, lineage3, ...]\n",
    "\n",
    "with open(path_cello) as f:\n",
    "    lines = f.readlines()\n",
    "    cell_id = ''\n",
    "    name2problems = {} # problematic\n",
    "    for line in lines:\n",
    "        line = line.rstrip('\\n')\n",
    "        if line.startswith('//'):\n",
    "            cell_id = ''\n",
    "        elif line.startswith('ID'):\n",
    "            cell_id = line.split('   ')[-1]\n",
    "            name2problems.setdefault(cell_id,[])\n",
    "        elif cell_id == '':\n",
    "            continue\n",
    "        elif line.startswith('CC'):\n",
    "            if 'problematic' in line.lower():\n",
    "                name2problems[cell_id].append(line.split('   ')[-1])"
   ]
  },
  {
   "cell_type": "code",
   "execution_count": 3,
   "id": "bdc337a7-f97a-44d8-b8f5-9c9d2b5f3bb2",
   "metadata": {},
   "outputs": [],
   "source": [
    "# Import authentication, guess data, institute data\n",
    "with open(path_match) as f:\n",
    "    lines = f.readlines()\n",
    "    items = map(lambda x: x.rstrip('\\n').split('\\t'), lines)\n",
    "    sam2match = {x[0]: x[1:] for x in items}\n",
    "    sam_mismatched = [k for k,v in sam2match.items() if not v[2].startswith('skip')]\n",
    "    # sam: [call, claim, result]\n",
    "\n",
    "with open(path_guess) as f:\n",
    "    get_doc = lambda x: x['prompt1'].split('\\n    ')[2].lstrip('Given context to you: \"').rstrip('\"')\n",
    "    json_concat = json.load(f)\n",
    "    sam2guess = {k:v for json in json_concat for k, v in json.items()}\n",
    "    sam2doc = {k:get_doc(v) for k,v in sam2guess.items()}\n",
    "    # sam: {id:?, prompt1:?, gpt-4o-mini-response-1:?, cellosaurus-candidates:?, prompt2:? gpt-4o-mini-response-2:?, final-choice:?}\n",
    "\n",
    "with open(path_meta) as f:\n",
    "    lines = f.readlines()\n",
    "    items = map(lambda x: x.rstrip('\\n').split('\\t'), lines)\n",
    "    sam2srr = {x[10]:x[0] for x in items}\n",
    "    # sam: srr"
   ]
  },
  {
   "cell_type": "markdown",
   "id": "72511eed-7d71-463f-a64e-54738ae091bb",
   "metadata": {},
   "source": [
    "### Verification"
   ]
  },
  {
   "cell_type": "code",
   "execution_count": 4,
   "id": "adfe7a39-b7b1-4959-88da-b3482759dbed",
   "metadata": {},
   "outputs": [],
   "source": [
    "import re\n",
    "from thefuzz import fuzz, process\n",
    "\n",
    "format_red = \"\\x1b[1;30;41m%s\\x1b[m\"\n",
    "format_orange = \"\\x1b[1;30;43m%s\\x1b[m\"\n",
    "format_blue = \"\\x1b[1;30;44m%s\\x1b[m\"\n",
    "format_sky = \"\\x1b[1;30;46m%s\\x1b[m\"\n",
    "format_grey = \"\\x1b[1;31;47m%s\\x1b[m\"\n",
    "\n",
    "clean = lambda name: re.sub('\\W','',name).upper()\n",
    "\n",
    "def add_color(text, call, claim):\n",
    "    claim = re.sub(r'([\\[\\]])', r'\\\\\\1', claim)\n",
    "    call_clean, claim_clean = clean(call), clean(claim)\n",
    "    text = re.sub(call_clean, format_sky % call_clean, text, flags=re.IGNORECASE)\n",
    "    text = re.sub(claim_clean, format_orange % claim_clean, text, flags=re.IGNORECASE)\n",
    "    text = re.sub(call, format_blue % call, text, flags=re.IGNORECASE)\n",
    "    text = re.sub(claim, format_red % claim, text, flags=re.IGNORECASE)\n",
    "    # if nothing found in text, mark grey\n",
    "    if \"\\x1b\" not in text:\n",
    "        text = format_grey % text\n",
    "    return text\n",
    "\n",
    "def find_cell_from_churu(name, churu):\n",
    "    name2churu = {line.split('\\t')[1]:line for line in churu}\n",
    "    names_match = process.extract(name, list(name2churu.keys()), limit=2)\n",
    "    return [name2churu[n[0]] for n in names_match]\n",
    "\n",
    "def format_churu(churu, n_line=5):\n",
    "    return '\\n'.join(churu[:n_line])\n",
    "\n",
    "def format_problem(name, name2problem):\n",
    "    problems = name2problem[name]\n",
    "    if problems:\n",
    "        return f\"{name}: \\n\\t\" + '\\n\\t'.join(name2problem[name])\n",
    "    else:\n",
    "        return f\"{name}: \" + '-'"
   ]
  },
  {
   "cell_type": "code",
   "execution_count": 5,
   "id": "d177deb0-8c73-44aa-bb54-1245e21d4a3b",
   "metadata": {},
   "outputs": [],
   "source": [
    "def pick_likely_claim(claims, doc):\n",
    "    # return first mamtch\n",
    "    for claim in claims:\n",
    "        if re.findall(claim, doc, flags=re.IGNORECASE):\n",
    "            return claim\n",
    "    else: # if nothing found on claims, just return first one\n",
    "        return claims[0]\n",
    "\n",
    "def show_info(mysam):\n",
    "    text = ''\n",
    "    call, claim, curation = sam2match[mysam][:3]\n",
    "    doc = sam2doc[mysam]\n",
    "    if '; ' in claim: # multiple guesses\n",
    "        text += '>>> Multiple guess case <<<' + '\\n'\n",
    "        text += format_red % claim + '\\n'\n",
    "        claims = claim.split('; ')\n",
    "        claim = pick_likely_claim(claims, doc)\n",
    "    # churu = sam2churu[mysam]\n",
    "    # churu_call = find_cell_from_churu(clean(call), churu)\n",
    "    # churu_claim = find_cell_from_churu(clean(claim), churu)\n",
    "    text += \"=\"*10 + \" NAME  \" + \"=\"*10 + '\\n'\n",
    "    text += f\"call  : {format_blue % call}\" + '\\n'\n",
    "    text += f\"claim : {format_red % claim}\" + '\\n'\n",
    "    text += f\"curation: {curation}\" + '\\n'\n",
    "    text += \"=\"*10 + \" LINE  \" + \"=\"*10 + '\\n'\n",
    "    text += add_color(' --> '.join(format_lineage(call)), call, claim) + '\\n'\n",
    "    text += add_color(' --> '.join(format_lineage(claim)), call, claim) + '\\n'\n",
    "    text += \"=\"*10 + \" PROB  \" + \"=\"*10 + '\\n'\n",
    "    text += add_color(format_problem(call, name2problems), call, claim) + '\\n'\n",
    "    text += add_color(format_problem(claim, name2problems), call, claim) + '\\n'\n",
    "    text += \"=\"*10 + \" DOC   \" + \"=\"*10 + '\\n'\n",
    "    text += add_color(doc, call, claim) + '\\n'\n",
    "    # text += \"=\"*10 + \" TOP 5 \" + \"=\"*10 + '\\n'\n",
    "    # text += add_color(format_churu(churu,5), call, claim) + '\\n'\n",
    "    # text += \"=\"*10 + \" CALL  \" + \"=\"*10 + '\\n'\n",
    "    # text += add_color(format_churu(churu_call, 2), call, claim) + '\\n'\n",
    "    # text += \"=\"*10 + \" CLAIM \" + \"=\"*10 + '\\n'\n",
    "    # text += add_color(format_churu(churu_claim, 2), call, claim) + '\\n'\n",
    "    text += \"=\"*27\n",
    "    return text"
   ]
  },
  {
   "cell_type": "code",
   "execution_count": 6,
   "id": "9001836f-180d-4461-8b47-24f5129d1c22",
   "metadata": {},
   "outputs": [
    {
     "ename": "NameError",
     "evalue": "name 'sam_done' is not defined",
     "output_type": "error",
     "traceback": [
      "\u001b[0;31m---------------------------------------------------------------------------\u001b[0m",
      "\u001b[0;31mNameError\u001b[0m                                 Traceback (most recent call last)",
      "Cell \u001b[0;32mIn[6], line 3\u001b[0m\n\u001b[1;32m      1\u001b[0m \u001b[38;5;66;03m# Let's check Known contams from the \"match\"\u001b[39;00m\n\u001b[0;32m----> 3\u001b[0m sam_match \u001b[38;5;241m=\u001b[39m \u001b[43m[\u001b[49m\u001b[43msam\u001b[49m\u001b[43m \u001b[49m\u001b[38;5;28;43;01mfor\u001b[39;49;00m\u001b[43m \u001b[49m\u001b[43msam\u001b[49m\u001b[43m \u001b[49m\u001b[38;5;129;43;01min\u001b[39;49;00m\u001b[43m \u001b[49m\u001b[43msam_mismatched\u001b[49m\u001b[43m \u001b[49m\u001b[38;5;28;43;01mif\u001b[39;49;00m\u001b[43m \u001b[49m\u001b[43msam\u001b[49m\u001b[43m \u001b[49m\u001b[38;5;129;43;01mnot\u001b[39;49;00m\u001b[43m \u001b[49m\u001b[38;5;129;43;01min\u001b[39;49;00m\u001b[43m \u001b[49m\u001b[43msam_done\u001b[49m\u001b[43m \u001b[49m\u001b[38;5;28;43;01mif\u001b[39;49;00m\u001b[43m \u001b[49m\u001b[43msam2match\u001b[49m\u001b[43m[\u001b[49m\u001b[43msam\u001b[49m\u001b[43m]\u001b[49m\u001b[43m[\u001b[49m\u001b[38;5;241;43m2\u001b[39;49m\u001b[43m]\u001b[49m\u001b[38;5;241;43m.\u001b[39;49m\u001b[43mstartswith\u001b[49m\u001b[43m(\u001b[49m\u001b[38;5;124;43m'\u001b[39;49m\u001b[38;5;124;43mmatch\u001b[39;49m\u001b[38;5;124;43m'\u001b[39;49m\u001b[43m)\u001b[49m\u001b[43m]\u001b[49m\n\u001b[1;32m      4\u001b[0m sam_interest \u001b[38;5;241m=\u001b[39m []\n\u001b[1;32m      5\u001b[0m \u001b[38;5;28mprint\u001b[39m(\u001b[38;5;28mlen\u001b[39m(sam_target))\n",
      "Cell \u001b[0;32mIn[6], line 3\u001b[0m, in \u001b[0;36m<listcomp>\u001b[0;34m(.0)\u001b[0m\n\u001b[1;32m      1\u001b[0m \u001b[38;5;66;03m# Let's check Known contams from the \"match\"\u001b[39;00m\n\u001b[0;32m----> 3\u001b[0m sam_match \u001b[38;5;241m=\u001b[39m [sam \u001b[38;5;28;01mfor\u001b[39;00m sam \u001b[38;5;129;01min\u001b[39;00m sam_mismatched \u001b[38;5;28;01mif\u001b[39;00m sam \u001b[38;5;129;01mnot\u001b[39;00m \u001b[38;5;129;01min\u001b[39;00m \u001b[43msam_done\u001b[49m \u001b[38;5;28;01mif\u001b[39;00m sam2match[sam][\u001b[38;5;241m2\u001b[39m]\u001b[38;5;241m.\u001b[39mstartswith(\u001b[38;5;124m'\u001b[39m\u001b[38;5;124mmatch\u001b[39m\u001b[38;5;124m'\u001b[39m)]\n\u001b[1;32m      4\u001b[0m sam_interest \u001b[38;5;241m=\u001b[39m []\n\u001b[1;32m      5\u001b[0m \u001b[38;5;28mprint\u001b[39m(\u001b[38;5;28mlen\u001b[39m(sam_target))\n",
      "\u001b[0;31mNameError\u001b[0m: name 'sam_done' is not defined"
     ]
    }
   ],
   "source": [
    "# Let's check Known contams from the \"match\"\n",
    "\n",
    "sam_match = [sam for sam in sam_mismatched if sam not in sam_done if sam2match[sam][2].startswith('match')]\n",
    "sam_interest = []\n",
    "print(len(sam_target))\n",
    "counter = {}\n",
    "for sam in sam_match:\n",
    "    call, claim, curation = sam2match[sam]\n",
    "    doc = sam2doc[sam]\n",
    "    if '; ' in claim: # multiple guesses\n",
    "        text += '>>> Multiple guess case <<<' + '\\n'\n",
    "        text += format_red % claim + '\\n'\n",
    "        claims = claim.split('; ')\n",
    "        claim = pick_likely_claim(claims, doc)\n",
    "    # print(format_problem(call, name2problems))\n",
    "    prob_call = name2problems[call]\n",
    "    prob_claim = name2problems[claim]\n",
    "    # print(sam, call, claim, prob_call + prob_claim)\n",
    "    if prob_call:\n",
    "        key = f\"{curation} / call\"\n",
    "        counter.setdefault(key,0)\n",
    "        counter[key] += 1\n",
    "    if prob_claim:\n",
    "        key = f\"{curation} / claim\"\n",
    "        counter.setdefault(key,0)\n",
    "        counter[key] += 1\n",
    "        if key == 'match_lineage / claim':\n",
    "            sam_interest.append(sam)\n",
    "            \n",
    "for k in sorted(counter.keys()):\n",
    "    print(f\"{k}: {counter[k]}\")"
   ]
  },
  {
   "cell_type": "code",
   "execution_count": 92,
   "id": "fdc6e896-f86e-453f-9d09-1daef7ae84db",
   "metadata": {},
   "outputs": [],
   "source": [
    "# unique claim > call sets\n",
    "len(set([f\"{' > '.join(sam2match[sam][:2])}\" for sam in sam_interest]))\n",
    "pattern2sams = {}\n",
    "for sam in sam_interest:\n",
    "    pattern = ' > '.join(sam2match[sam][:2])\n",
    "    pattern2sams.setdefault(pattern,[]).append(sam)"
   ]
  },
  {
   "cell_type": "code",
   "execution_count": 94,
   "id": "a21ef4ef-df86-407a-bc2c-154303dabe49",
   "metadata": {},
   "outputs": [
    {
     "name": "stderr",
     "output_type": "stream",
     "text": [
      "100%|██████████████████████████████████████████████████████████████| 61/61 [10:17<00:00, 10.12s/it]\n"
     ]
    }
   ],
   "source": [
    "# show one representative cases, and apply to all\n",
    "pattern2response = {}\n",
    "for pattern in tqdm(pattern2sams.keys()):\n",
    "    mysam = pattern2sams[pattern][0]\n",
    "    tic = time.time()\n",
    "    text = show_info(mysam)\n",
    "    print(mysam)\n",
    "    print(text)\n",
    "    response = input('Your response: ') or \"\"\n",
    "    pattern2response[pattern] = response\n",
    "    clear_output(wait=False)"
   ]
  },
  {
   "cell_type": "code",
   "execution_count": 101,
   "id": "04fd067c-dff7-4965-b3c0-22dab0ea832e",
   "metadata": {},
   "outputs": [],
   "source": [
    "# now fill the sam with the responses\n",
    "sam2response = {}\n",
    "for pattern in pattern2sams:\n",
    "    sams = pattern2sams[pattern]\n",
    "    response = pattern2response[pattern]\n",
    "    for sam in sams:\n",
    "        sam2response[sam] = response"
   ]
  },
  {
   "cell_type": "code",
   "execution_count": 107,
   "id": "7158e707-6419-4159-9d7e-c170f9e8c8ba",
   "metadata": {},
   "outputs": [],
   "source": [
    "output_txt = path_workd + '/manual_check_known_contam_from_match_lineage.txt'\n",
    "\n",
    "lines = []\n",
    "for sam in sorted(sam2response.keys()):\n",
    "    call, claim, curation = sam2match[sam]\n",
    "    lines.append(f\"{sam}\\t{call}\\t{claim}\\t{sam2response[sam]}\\n\")\n",
    "\n",
    "with open(output_txt, 'w') as f:\n",
    "    f.writelines(lines)"
   ]
  },
  {
   "cell_type": "code",
   "execution_count": 19,
   "id": "51495af1-1941-4f28-be69-5ece911706a3",
   "metadata": {},
   "outputs": [
    {
     "name": "stdout",
     "output_type": "stream",
     "text": [
      "========== NAME  ==========\n",
      "call  : \u001b[1;30;44mU-251MG\u001b[m\n",
      "claim : \u001b[1;30;41mU251-TR3\u001b[m\n",
      "curation: match_lineage\n",
      "========== LINE  ==========\n",
      "\u001b[1;30;44mU-251MG\u001b[m\n",
      "\u001b[1;30;44mU-251MG\u001b[m --> \u001b[1;30;41mU251-TR3\u001b[m\n",
      "========== PROB  ==========\n",
      "\u001b[1;30;44mU-251MG\u001b[m: -\n",
      "\u001b[1;30;41mU251-TR3\u001b[m: \n",
      "\tProblematic cell line: Misidentified. Originally thought (PubMed=19584161) to be a A-172 (Cellosaurus=CVCL_0131) derivative but shown to be a \u001b[1;30;44mU-251MG\u001b[m derivative (DOI=10.1158/1078-0432.CCR-13-1821).\n",
      "========== DOC   ==========\n",
      "\u001b[1;31;47msample id: SAMN15086646\n",
      "title: U251TR rep2\n",
      "sample name: -\n",
      "source_name: glioblastoma cells\n",
      "tissue: glioblastoma\n",
      "cell line: U251TR\n",
      "phenotype: temozolomide resistant cells\u001b[m\n",
      "===========================\n"
     ]
    }
   ],
   "source": [
    "mysam = 'SAMN15086646'\n",
    "print(show_info(mysam))"
   ]
  },
  {
   "cell_type": "code",
   "execution_count": null,
   "id": "2342176b-6f60-4b15-98f8-23e6f9c720af",
   "metadata": {},
   "outputs": [],
   "source": []
  }
 ],
 "metadata": {
  "kernelspec": {
   "display_name": "Python 3 (ipykernel)",
   "language": "python",
   "name": "python3"
  },
  "language_info": {
   "codemirror_mode": {
    "name": "ipython",
    "version": 3
   },
   "file_extension": ".py",
   "mimetype": "text/x-python",
   "name": "python",
   "nbconvert_exporter": "python",
   "pygments_lexer": "ipython3",
   "version": "3.11.5"
  }
 },
 "nbformat": 4,
 "nbformat_minor": 5
}
